{
  "nbformat": 4,
  "nbformat_minor": 0,
  "metadata": {
    "colab": {
      "provenance": []
    },
    "kernelspec": {
      "name": "python3",
      "display_name": "Python 3"
    },
    "language_info": {
      "name": "python"
    }
  },
  "cells": [
    {
      "cell_type": "code",
      "execution_count": 1,
      "metadata": {
        "colab": {
          "base_uri": "https://localhost:8080/"
        },
        "id": "622jp3o5ff0Y",
        "outputId": "0adef068-297c-46b1-dc4c-6445bdfb2e0a"
      },
      "outputs": [
        {
          "output_type": "stream",
          "name": "stdout",
          "text": [
            "Nama         : Ahmad Syauqy Wardani\n",
            "\n",
            "NPM          : 2440506051\n",
            "\n",
            "Alamat       : Potrobangansan\n",
            "\n",
            "Tinggi Badan : Sekian\n",
            "\n",
            "Berat Badan  : Sekian\n"
          ]
        }
      ],
      "source": [
        "# Menampilkan Biodata\n",
        "print('Nama         : Ahmad Syauqy Wardani')\n",
        "print('\\nNPM          : 2440506051')\n",
        "print('\\nAlamat       : Potrobangansan')\n",
        "print('\\nTinggi Badan : Sekian')\n",
        "print('\\nBerat Badan  : Sekian')"
      ]
    },
    {
      "cell_type": "code",
      "source": [
        "# Deskripsi Kampus Terkeren\n",
        "print('\\033[1m' + 'UNIVERSITAS TIDAR' + '\\033[0m')\n",
        "print('Universitas tidar merupakan perguruan tinggi pemerintah atau perguruan tinggi negeri yang telah ditetapkan berdasarkan peraturan presiden republik indonesia nomor 23 tahun 2014')\n",
        "print('')\n",
        "# Jurusan JTEMI\n",
        "print('\\033[1m' + 'JURUSAN TENKIK ELEKTRO' + '\\033[0m')\n",
        "print('Jurusan Teknik Elektro terdiri dari 3 program studi, antara lain:')\n",
        "print('   1. S1 Teknik Elektro' + '\\x1b[3m (Bachelor of Electrical Engineering) \\x1b[0m')\n",
        "print('   2. S1 Teknologi Informasi' + '\\x1b[3m (Bachelor of Information Technology) \\x1b[0m')\n",
        "print('   3. S1 Teknik Mekatronika'  + '\\x1b[3m (Bachelor of Mechatronics Engineering) \\x1b[0m')\n"
      ],
      "metadata": {
        "colab": {
          "base_uri": "https://localhost:8080/"
        },
        "id": "0pZ3es9mfxpm",
        "outputId": "11a5c9a7-79f7-461c-995b-831ed0855949"
      },
      "execution_count": 2,
      "outputs": [
        {
          "output_type": "stream",
          "name": "stdout",
          "text": [
            "\u001b[1mUNIVERSITAS TIDAR\u001b[0m\n",
            "Universitas tidar merupakan perguruan tinggi pemerintah atau perguruan tinggi negeri yang telah ditetapkan berdasarkan peraturan presiden republik indonesia nomor 23 tahun 2014\n",
            "\n",
            "\u001b[1mJURUSAN TENKIK ELEKTRO\u001b[0m\n",
            "Jurusan Teknik Elektro terdiri dari 3 program studi, antara lain:\n",
            "   1. S1 Teknik Elektro\u001b[3m (Bachelor of Electrical Engineering) \u001b[0m\n",
            "   2. S1 Teknologi Informasi\u001b[3m (Bachelor of Information Technology) \u001b[0m\n",
            "   3. S1 Teknik Mekatronika\u001b[3m (Bachelor of Mechatronics Engineering) \u001b[0m\n"
          ]
        }
      ]
    }
  ]
}